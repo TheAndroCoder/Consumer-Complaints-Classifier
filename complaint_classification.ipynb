{
  "nbformat": 4,
  "nbformat_minor": 0,
  "metadata": {
    "colab": {
      "name": "complaint_classification.ipynb",
      "provenance": [],
      "collapsed_sections": []
    },
    "kernelspec": {
      "name": "python3",
      "display_name": "Python 3"
    }
  },
  "cells": [
    {
      "cell_type": "code",
      "metadata": {
        "id": "WRdgiHzhZuzT",
        "colab_type": "code",
        "outputId": "292221e5-9fb0-426e-91e9-9d247fc42cfc",
        "colab": {
          "base_uri": "https://localhost:8080/",
          "height": 547
        }
      },
      "source": [
        "import pandas as pd\n",
        "df=pd.read_csv('Consumer_Complaints.csv')\n",
        "df.head()"
      ],
      "execution_count": 0,
      "outputs": [
        {
          "output_type": "execute_result",
          "data": {
            "text/html": [
              "<div>\n",
              "<style scoped>\n",
              "    .dataframe tbody tr th:only-of-type {\n",
              "        vertical-align: middle;\n",
              "    }\n",
              "\n",
              "    .dataframe tbody tr th {\n",
              "        vertical-align: top;\n",
              "    }\n",
              "\n",
              "    .dataframe thead th {\n",
              "        text-align: right;\n",
              "    }\n",
              "</style>\n",
              "<table border=\"1\" class=\"dataframe\">\n",
              "  <thead>\n",
              "    <tr style=\"text-align: right;\">\n",
              "      <th></th>\n",
              "      <th>Date received</th>\n",
              "      <th>Product</th>\n",
              "      <th>Sub-product</th>\n",
              "      <th>Issue</th>\n",
              "      <th>Sub-issue</th>\n",
              "      <th>Consumer Complaint</th>\n",
              "      <th>Company Public Response</th>\n",
              "      <th>Company</th>\n",
              "      <th>State</th>\n",
              "      <th>ZIP code</th>\n",
              "      <th>Tags</th>\n",
              "      <th>Consumer consent provided?</th>\n",
              "      <th>Submitted via</th>\n",
              "      <th>Date Sent to Company</th>\n",
              "      <th>Company Response to Consumer</th>\n",
              "      <th>Timely response?</th>\n",
              "      <th>Consumer disputed?</th>\n",
              "      <th>Complaint ID</th>\n",
              "    </tr>\n",
              "  </thead>\n",
              "  <tbody>\n",
              "    <tr>\n",
              "      <th>0</th>\n",
              "      <td>3/12/14</td>\n",
              "      <td>Mortgage</td>\n",
              "      <td>Other mortgage</td>\n",
              "      <td>Loan modification,collection,foreclosure</td>\n",
              "      <td>NaN</td>\n",
              "      <td>NaN</td>\n",
              "      <td>NaN</td>\n",
              "      <td>M&amp;T BANK CORPORATION</td>\n",
              "      <td>MI</td>\n",
              "      <td>48382</td>\n",
              "      <td>NaN</td>\n",
              "      <td>NaN</td>\n",
              "      <td>Referral</td>\n",
              "      <td>3/17/14</td>\n",
              "      <td>Closed with explanation</td>\n",
              "      <td>Yes</td>\n",
              "      <td>No</td>\n",
              "      <td>759217</td>\n",
              "    </tr>\n",
              "    <tr>\n",
              "      <th>1</th>\n",
              "      <td>10/1/16</td>\n",
              "      <td>Credit reporting</td>\n",
              "      <td>NaN</td>\n",
              "      <td>Incorrect information on credit report</td>\n",
              "      <td>Account status</td>\n",
              "      <td>I have outdated information on my credit repor...</td>\n",
              "      <td>Company has responded to the consumer and the ...</td>\n",
              "      <td>TRANSUNION INTERMEDIATE HOLDINGS, INC.</td>\n",
              "      <td>AL</td>\n",
              "      <td>352XX</td>\n",
              "      <td>NaN</td>\n",
              "      <td>Consent provided</td>\n",
              "      <td>Web</td>\n",
              "      <td>10/5/16</td>\n",
              "      <td>Closed with explanation</td>\n",
              "      <td>Yes</td>\n",
              "      <td>No</td>\n",
              "      <td>2141773</td>\n",
              "    </tr>\n",
              "    <tr>\n",
              "      <th>2</th>\n",
              "      <td>10/17/16</td>\n",
              "      <td>Consumer Loan</td>\n",
              "      <td>Vehicle loan</td>\n",
              "      <td>Managing the loan or lease</td>\n",
              "      <td>NaN</td>\n",
              "      <td>I purchased a new car on XXXX XXXX. The car de...</td>\n",
              "      <td>NaN</td>\n",
              "      <td>CITIZENS FINANCIAL GROUP, INC.</td>\n",
              "      <td>PA</td>\n",
              "      <td>177XX</td>\n",
              "      <td>Older American</td>\n",
              "      <td>Consent provided</td>\n",
              "      <td>Web</td>\n",
              "      <td>10/20/16</td>\n",
              "      <td>Closed with explanation</td>\n",
              "      <td>Yes</td>\n",
              "      <td>No</td>\n",
              "      <td>2163100</td>\n",
              "    </tr>\n",
              "    <tr>\n",
              "      <th>3</th>\n",
              "      <td>6/8/14</td>\n",
              "      <td>Credit card</td>\n",
              "      <td>NaN</td>\n",
              "      <td>Bankruptcy</td>\n",
              "      <td>NaN</td>\n",
              "      <td>NaN</td>\n",
              "      <td>NaN</td>\n",
              "      <td>AMERICAN EXPRESS COMPANY</td>\n",
              "      <td>ID</td>\n",
              "      <td>83854</td>\n",
              "      <td>Older American</td>\n",
              "      <td>NaN</td>\n",
              "      <td>Web</td>\n",
              "      <td>6/10/14</td>\n",
              "      <td>Closed with explanation</td>\n",
              "      <td>Yes</td>\n",
              "      <td>Yes</td>\n",
              "      <td>885638</td>\n",
              "    </tr>\n",
              "    <tr>\n",
              "      <th>4</th>\n",
              "      <td>9/13/14</td>\n",
              "      <td>Debt collection</td>\n",
              "      <td>Credit card</td>\n",
              "      <td>Communication tactics</td>\n",
              "      <td>Frequent or repeated calls</td>\n",
              "      <td>NaN</td>\n",
              "      <td>NaN</td>\n",
              "      <td>CITIBANK, N.A.</td>\n",
              "      <td>VA</td>\n",
              "      <td>23233</td>\n",
              "      <td>NaN</td>\n",
              "      <td>NaN</td>\n",
              "      <td>Web</td>\n",
              "      <td>9/13/14</td>\n",
              "      <td>Closed with explanation</td>\n",
              "      <td>Yes</td>\n",
              "      <td>Yes</td>\n",
              "      <td>1027760</td>\n",
              "    </tr>\n",
              "  </tbody>\n",
              "</table>\n",
              "</div>"
            ],
            "text/plain": [
              "  Date received           Product  ... Consumer disputed? Complaint ID\n",
              "0       3/12/14          Mortgage  ...                 No       759217\n",
              "1       10/1/16  Credit reporting  ...                 No      2141773\n",
              "2      10/17/16     Consumer Loan  ...                 No      2163100\n",
              "3        6/8/14       Credit card  ...                Yes       885638\n",
              "4       9/13/14   Debt collection  ...                Yes      1027760\n",
              "\n",
              "[5 rows x 18 columns]"
            ]
          },
          "metadata": {
            "tags": []
          },
          "execution_count": 2
        }
      ]
    },
    {
      "cell_type": "code",
      "metadata": {
        "id": "1NV-lgXflABb",
        "colab_type": "code",
        "outputId": "74d85b9f-3c26-4509-ed97-4aaff6e1a1d1",
        "colab": {
          "base_uri": "https://localhost:8080/",
          "height": 34
        }
      },
      "source": [
        "df.shape"
      ],
      "execution_count": 0,
      "outputs": [
        {
          "output_type": "execute_result",
          "data": {
            "text/plain": [
              "(9999, 18)"
            ]
          },
          "metadata": {
            "tags": []
          },
          "execution_count": 3
        }
      ]
    },
    {
      "cell_type": "code",
      "metadata": {
        "id": "e5WcugsHleqv",
        "colab_type": "code",
        "colab": {}
      },
      "source": [
        "df=df[['Product','Consumer Complaint']]\n",
        "df=df[pd.notnull(df['Consumer Complaint'])]"
      ],
      "execution_count": 0,
      "outputs": []
    },
    {
      "cell_type": "code",
      "metadata": {
        "id": "6n58DfsQphf6",
        "colab_type": "code",
        "colab": {}
      },
      "source": [
        "df.columns=['Product','Consumer_complaint']   #Removed the space in the Consumer Complaint heading"
      ],
      "execution_count": 0,
      "outputs": []
    },
    {
      "cell_type": "code",
      "metadata": {
        "id": "engejaccpl3v",
        "colab_type": "code",
        "outputId": "a192df00-6cbf-4d27-8164-6e20efa00330",
        "colab": {
          "base_uri": "https://localhost:8080/",
          "height": 204
        }
      },
      "source": [
        "df['category_id']=df['Product'].factorize()[0]\n",
        "cat_id_df=df[['Product','category_id']].drop_duplicates().sort_values('category_id')\n",
        "cat_id_df.head()"
      ],
      "execution_count": 0,
      "outputs": [
        {
          "output_type": "execute_result",
          "data": {
            "text/html": [
              "<div>\n",
              "<style scoped>\n",
              "    .dataframe tbody tr th:only-of-type {\n",
              "        vertical-align: middle;\n",
              "    }\n",
              "\n",
              "    .dataframe tbody tr th {\n",
              "        vertical-align: top;\n",
              "    }\n",
              "\n",
              "    .dataframe thead th {\n",
              "        text-align: right;\n",
              "    }\n",
              "</style>\n",
              "<table border=\"1\" class=\"dataframe\">\n",
              "  <thead>\n",
              "    <tr style=\"text-align: right;\">\n",
              "      <th></th>\n",
              "      <th>Product</th>\n",
              "      <th>category_id</th>\n",
              "    </tr>\n",
              "  </thead>\n",
              "  <tbody>\n",
              "    <tr>\n",
              "      <th>1</th>\n",
              "      <td>Credit reporting</td>\n",
              "      <td>0</td>\n",
              "    </tr>\n",
              "    <tr>\n",
              "      <th>2</th>\n",
              "      <td>Consumer Loan</td>\n",
              "      <td>1</td>\n",
              "    </tr>\n",
              "    <tr>\n",
              "      <th>12</th>\n",
              "      <td>Debt collection</td>\n",
              "      <td>2</td>\n",
              "    </tr>\n",
              "    <tr>\n",
              "      <th>25</th>\n",
              "      <td>Mortgage</td>\n",
              "      <td>3</td>\n",
              "    </tr>\n",
              "    <tr>\n",
              "      <th>36</th>\n",
              "      <td>Credit card</td>\n",
              "      <td>4</td>\n",
              "    </tr>\n",
              "  </tbody>\n",
              "</table>\n",
              "</div>"
            ],
            "text/plain": [
              "             Product  category_id\n",
              "1   Credit reporting            0\n",
              "2      Consumer Loan            1\n",
              "12   Debt collection            2\n",
              "25          Mortgage            3\n",
              "36       Credit card            4"
            ]
          },
          "metadata": {
            "tags": []
          },
          "execution_count": 6
        }
      ]
    },
    {
      "cell_type": "code",
      "metadata": {
        "id": "xss_AbXqCG1j",
        "colab_type": "code",
        "outputId": "19717d6f-d000-41d0-b5f4-be4bf96a37d3",
        "colab": {
          "base_uri": "https://localhost:8080/",
          "height": 54
        }
      },
      "source": [
        "cat_to_id=dict(cat_id_df.values)\n",
        "print(cat_to_id)  #Here i get all the string categories in Integer format"
      ],
      "execution_count": 0,
      "outputs": [
        {
          "output_type": "stream",
          "text": [
            "{'Credit reporting': 0, 'Consumer Loan': 1, 'Debt collection': 2, 'Mortgage': 3, 'Credit card': 4, 'Other financial service': 5, 'Bank account or service': 6, 'Student loan': 7, 'Money transfers': 8, 'Payday loan': 9, 'Prepaid card': 10, 'Money transfer, virtual currency, or money service': 11, 'Credit reporting, credit repair services, or other personal consumer reports': 12, 'Checking or savings account': 13, 'Vehicle loan or lease': 14, 'Credit card or prepaid card': 15}\n"
          ],
          "name": "stdout"
        }
      ]
    },
    {
      "cell_type": "code",
      "metadata": {
        "id": "nbk4LTdaCUVm",
        "colab_type": "code",
        "outputId": "31f59c74-9501-4ac8-8643-264836eef061",
        "colab": {
          "base_uri": "https://localhost:8080/",
          "height": 54
        }
      },
      "source": [
        "id_to_cat=dict(cat_id_df[['category_id','Product']].values)\n",
        "print(id_to_cat)"
      ],
      "execution_count": 0,
      "outputs": [
        {
          "output_type": "stream",
          "text": [
            "{0: 'Credit reporting', 1: 'Consumer Loan', 2: 'Debt collection', 3: 'Mortgage', 4: 'Credit card', 5: 'Other financial service', 6: 'Bank account or service', 7: 'Student loan', 8: 'Money transfers', 9: 'Payday loan', 10: 'Prepaid card', 11: 'Money transfer, virtual currency, or money service', 12: 'Credit reporting, credit repair services, or other personal consumer reports', 13: 'Checking or savings account', 14: 'Vehicle loan or lease', 15: 'Credit card or prepaid card'}\n"
          ],
          "name": "stdout"
        }
      ]
    },
    {
      "cell_type": "code",
      "metadata": {
        "id": "Pti8h_5mD-Fc",
        "colab_type": "code",
        "outputId": "ddf501c6-1fd0-4eb0-95d5-43a8a4fcb342",
        "colab": {
          "base_uri": "https://localhost:8080/",
          "height": 774
        }
      },
      "source": [
        "import matplotlib.pyplot as plt\n",
        "%matplotlib inline\n",
        "fig=plt.figure(figsize=(8,6))\n",
        "df.groupby('Product').Consumer_complaint.count().plot.bar(ylim=0)\n",
        "#From the below plot we can see that the dataset is more biased towards credit reporting, debt collection and mortgage. we can do data sampling for this, but we wont"
      ],
      "execution_count": 0,
      "outputs": [
        {
          "output_type": "execute_result",
          "data": {
            "text/plain": [
              "<matplotlib.axes._subplots.AxesSubplot at 0x7f4a4e530f60>"
            ]
          },
          "metadata": {
            "tags": []
          },
          "execution_count": 11
        },
        {
          "output_type": "display_data",
          "data": {
            "image/png": "[encoded data removed]",
            "text/plain": [
              "<Figure size 576x432 with 1 Axes>"
            ]
          },
          "metadata": {
            "tags": []
          }
        }
      ]
    },
    {
      "cell_type": "code",
      "metadata": {
        "id": "K5FZryfjFlmr",
        "colab_type": "code",
        "outputId": "95882c55-15cb-4d9c-d1f9-91786e313e4d",
        "colab": {
          "base_uri": "https://localhost:8080/",
          "height": 34
        }
      },
      "source": [
        "#Now we will convert the text complaint into some feature vector since computer cannot understand english words. The presence of a word would be taken into consideration but the position of the word would be ignored\n",
        "from sklearn.feature_extraction.text import TfidfVectorizer\n",
        "tfidf = TfidfVectorizer(sublinear_tf=True,norm='l2',min_df=5,ngram_range=(1,2),stop_words='english')\n",
        "features=tfidf.fit_transform(df.Consumer_complaint).toarray()\n",
        "labels=df.category_id\n",
        "features.shape\n",
        "#the output denotes that each of the 2114 consumer complaint narratives are represented by 6081 features"
      ],
      "execution_count": 0,
      "outputs": [
        {
          "output_type": "execute_result",
          "data": {
            "text/plain": [
              "(2114, 6081)"
            ]
          },
          "metadata": {
            "tags": []
          },
          "execution_count": 15
        }
      ]
    },
    {
      "cell_type": "code",
      "metadata": {
        "id": "vuo_3EN1ILWC",
        "colab_type": "code",
        "colab": {}
      },
      "source": [
        "#divide data into train-test dataset\n",
        "from sklearn.model_selection import train_test_split\n",
        "x_train,x_test,y_train,y_test=train_test_split(df.Consumer_complaint,df.Product,random_state=43)"
      ],
      "execution_count": 0,
      "outputs": []
    },
    {
      "cell_type": "code",
      "metadata": {
        "id": "CuWW57FxI8lG",
        "colab_type": "code",
        "colab": {}
      },
      "source": [
        "#we need to convert these collection of text documents into a matrix of token counts\n",
        "from sklearn.feature_extraction.text import CountVectorizer\n",
        "from sklearn.feature_extraction.text import TfidfTransformer\n",
        "count_vect = CountVectorizer()\n",
        "x_train_counts = count_vect.fit_transform(x_train)\n",
        "tfidf_transformer = TfidfTransformer()\n",
        "x_train_tfidf = tfidf_transformer.fit_transform(x_train_counts)"
      ],
      "execution_count": 0,
      "outputs": []
    },
    {
      "cell_type": "code",
      "metadata": {
        "id": "t3gDWFsNKbL4",
        "colab_type": "code",
        "colab": {}
      },
      "source": [
        "#import Support vector machine to build classifier\n",
        "from sklearn.svm import LinearSVC\n",
        "clf=LinearSVC().fit(x_train_tfidf,y_train)"
      ],
      "execution_count": 0,
      "outputs": []
    },
    {
      "cell_type": "code",
      "metadata": {
        "id": "nji7MXupLKQu",
        "colab_type": "code",
        "outputId": "65292bb7-118e-49ba-adbf-a9bb1cd523c8",
        "colab": {
          "base_uri": "https://localhost:8080/",
          "height": 34
        }
      },
      "source": [
        "print(clf.predict(count_vect.transform([' have outdated information on my credit repor'])))"
      ],
      "execution_count": 0,
      "outputs": [
        {
          "output_type": "stream",
          "text": [
            "['Credit reporting']\n"
          ],
          "name": "stdout"
        }
      ]
    },
    {
      "cell_type": "code",
      "metadata": {
        "id": "0YPmYdy-Lf7M",
        "colab_type": "code",
        "colab": {}
      },
      "source": [
        "y_pred=clf.predict(count_vect.transform(x_test))"
      ],
      "execution_count": 0,
      "outputs": []
    },
    {
      "cell_type": "code",
      "metadata": {
        "id": "fC9_Xf5yL2V_",
        "colab_type": "code",
        "outputId": "e29e3c8d-06b4-416a-83e0-ba935d2aa3c8",
        "colab": {
          "base_uri": "https://localhost:8080/",
          "height": 530
        }
      },
      "source": [
        "from sklearn import metrics\n",
        "print(metrics.classification_report(y_test,y_pred,labels=df.Product,target_names=df['Product'].unique()))"
      ],
      "execution_count": 0,
      "outputs": [
        {
          "output_type": "stream",
          "text": [
            "                                                                              precision    recall  f1-score   support\n",
            "\n",
            "                                                            Credit reporting       0.60      0.90      0.72        88\n",
            "                                                               Consumer Loan       0.41      0.57      0.48        30\n",
            "                                                             Debt collection       0.60      0.90      0.72        88\n",
            "                                                                    Mortgage       0.86      0.66      0.75       124\n",
            "                                                                 Credit card       0.86      0.66      0.75       124\n",
            "                                                     Other financial service       0.92      0.88      0.90        99\n",
            "                                                     Bank account or service       0.92      0.88      0.90        99\n",
            "                                                                Student loan       0.60      0.90      0.72        88\n",
            "                                                             Money transfers       0.92      0.88      0.90        99\n",
            "                                                                 Payday loan       0.69      0.77      0.73        79\n",
            "                                                                Prepaid card       0.69      0.77      0.73        79\n",
            "                          Money transfer, virtual currency, or money service       0.86      0.66      0.75       124\n",
            "Credit reporting, credit repair services, or other personal consumer reports       0.60      0.90      0.72        88\n",
            "                                                 Checking or savings account       0.60      0.90      0.72        88\n",
            "                                                       Vehicle loan or lease       0.92      0.88      0.90        99\n",
            "                                                 Credit card or prepaid card       0.60      0.90      0.72        88\n",
            "\n",
            "                                                                   micro avg       0.76      0.77      0.77    178981\n",
            "                                                                   macro avg       0.76      0.74      0.74    178981\n",
            "                                                                weighted avg       0.79      0.77      0.77    178981\n",
            "\n"
          ],
          "name": "stdout"
        },
        {
          "output_type": "stream",
          "text": [
            "/usr/local/lib/python3.6/dist-packages/sklearn/metrics/classification.py:1870: UserWarning: labels size, 2114, does not match size of target_names, 16\n",
            "  .format(len(labels), len(target_names))\n",
            "/usr/local/lib/python3.6/dist-packages/sklearn/metrics/classification.py:1437: UndefinedMetricWarning: Precision and F-score are ill-defined and being set to 0.0 in labels with no predicted samples.\n",
            "  'precision', 'predicted', average, warn_for)\n",
            "/usr/local/lib/python3.6/dist-packages/sklearn/metrics/classification.py:1439: UndefinedMetricWarning: Recall and F-score are ill-defined and being set to 0.0 in labels with no true samples.\n",
            "  'recall', 'true', average, warn_for)\n"
          ],
          "name": "stderr"
        }
      ]
    }
  ]
}